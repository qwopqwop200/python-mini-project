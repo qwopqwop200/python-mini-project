{
 "cells": [
  {
   "cell_type": "code",
   "execution_count": 1,
   "metadata": {},
   "outputs": [],
   "source": [
    "import numpy as np"
   ]
  },
  {
   "cell_type": "code",
   "execution_count": 2,
   "metadata": {},
   "outputs": [],
   "source": [
    "password  =  np.array([int(i) for i in list('123456789')])"
   ]
  },
  {
   "cell_type": "code",
   "execution_count": 3,
   "metadata": {},
   "outputs": [],
   "source": [
    "long  = len(password)\n",
    "num_DNA = 100\n",
    "selection_num = 25\n",
    "mutation_num =  2\n",
    "mutation_p =  0.1\n",
    "crossover_num = num_DNA - selection_num"
   ]
  },
  {
   "cell_type": "code",
   "execution_count": 4,
   "metadata": {},
   "outputs": [],
   "source": [
    "DNA = []\n",
    "for i in range(num_DNA):\n",
    "    DNA.append(np.random.randint(0,10,long))"
   ]
  },
  {
   "cell_type": "code",
   "execution_count": 5,
   "metadata": {},
   "outputs": [],
   "source": [
    "def loss(x,y):\n",
    "    return np.sum((x == y).astype('int32'))\n",
    "\n",
    "def selection(x):\n",
    "    score = []\n",
    "    for i in range(len(x)):\n",
    "        score.append([i,loss(x[i],password)])\n",
    "    score.sort(key= lambda x : x[1])\n",
    "    selections = score[-selection_num:]\n",
    "    selections_x = [x[i] for i in selections[0]] \n",
    "    return selections_x\n",
    "\n",
    "def crossover(x):\n",
    "    crossovers = []\n",
    "    for i in range(crossover_num):\n",
    "        result = []\n",
    "        cross_1 = x[np.random.randint(0,len(x))]\n",
    "        cross_2 = x[np.random.randint(0,len(x))]\n",
    "        heredity = np.random.randint(0,2,long)\n",
    "        for i in range(long):\n",
    "            if heredity[i]:\n",
    "                result.append(cross_1[i])\n",
    "            else:\n",
    "                result.append(cross_2[i])\n",
    "        if np.random.rand() < mutation_p:\n",
    "            result = mutation(result)\n",
    "        crossovers.append(result)\n",
    "    return crossovers + x \n",
    "\n",
    "def mutation(x):\n",
    "    indexs = list(np.random.randint(0,long,mutation_num))\n",
    "    for i in indexs:\n",
    "        x[i] = np.random.randint(0,10)\n",
    "    return x"
   ]
  },
  {
   "cell_type": "code",
   "execution_count": 6,
   "metadata": {},
   "outputs": [
    {
     "name": "stdout",
     "output_type": "stream",
     "text": [
      "5\n",
      "4159\n"
     ]
    }
   ],
   "source": [
    "episode = 0\n",
    "training = True\n",
    "while training:\n",
    "    episode += 1\n",
    "    DNA = selection(DNA)\n",
    "    DNA = crossover(DNA)\n",
    "    for i in range(len(DNA)):\n",
    "        if long == loss(DNA[i],password):\n",
    "            training = False\n",
    "            print(i)\n",
    "            print(episode)\n",
    "            break"
   ]
  },
  {
   "cell_type": "code",
   "execution_count": 8,
   "metadata": {},
   "outputs": [
    {
     "data": {
      "text/plain": [
       "[1, 2, 3, 4, 5, 6, 7, 8, 9]"
      ]
     },
     "execution_count": 8,
     "metadata": {},
     "output_type": "execute_result"
    }
   ],
   "source": [
    "DNA[i]"
   ]
  },
  {
   "cell_type": "code",
   "execution_count": null,
   "metadata": {},
   "outputs": [],
   "source": []
  }
 ],
 "metadata": {
  "kernelspec": {
   "display_name": "Python 3",
   "language": "python",
   "name": "python3"
  },
  "language_info": {
   "codemirror_mode": {
    "name": "ipython",
    "version": 3
   },
   "file_extension": ".py",
   "mimetype": "text/x-python",
   "name": "python",
   "nbconvert_exporter": "python",
   "pygments_lexer": "ipython3",
   "version": "3.7.7"
  }
 },
 "nbformat": 4,
 "nbformat_minor": 4
}
