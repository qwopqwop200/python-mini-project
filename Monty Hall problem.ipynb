{
 "cells": [
  {
   "cell_type": "code",
   "execution_count": 1,
   "metadata": {},
   "outputs": [],
   "source": [
    "import numpy as np\n",
    "import matplotlib.pyplot as plt"
   ]
  },
  {
   "cell_type": "code",
   "execution_count": 2,
   "metadata": {},
   "outputs": [],
   "source": [
    "def Monty_hall_simulation(change=True):\n",
    "    option = [1,0,0] \n",
    "    option = np.random.shuffle(option)\n",
    "    select = int(np.random.randint(0,3,1))\n",
    "    \n",
    "    open_door = open_the_window(option,select)\n",
    "    \n",
    "    if change:\n",
    "        door = [0,1,2]\n",
    "        door.remove(open_door)\n",
    "        door.remove(select)\n",
    "        select = door[0]\n",
    "    \n",
    "    if select == np.argmax(option):\n",
    "        result = 1\n",
    "    else:\n",
    "        result = 0 \n",
    "    return result"
   ]
  },
  {
   "cell_type": "code",
   "execution_count": 3,
   "metadata": {},
   "outputs": [],
   "source": [
    "def open_the_window(option,select):\n",
    "    true_answer = int(np.argmax(option))\n",
    "    door = [0,1,2]\n",
    "    door.remove(true_answer)\n",
    "    if select == door[0] or select == door[1]:\n",
    "        try:\n",
    "            door.remove(select)\n",
    "        except:\n",
    "            door = door\n",
    "    open_door = np.random.choice(door,1)\n",
    "    return open_door"
   ]
  },
  {
   "cell_type": "code",
   "execution_count": 23,
   "metadata": {},
   "outputs": [],
   "source": [
    "add = 0\n",
    "graph_i = []\n",
    "graph_add = [] \n",
    "graph_i_add = [] \n",
    "for i in range(1000000):\n",
    "    add+= Monty_hall_simulation(False)\n",
    "    graph_i.append(i)\n",
    "    graph_add.append(add)\n",
    "    graph_i_add.append(i-add)"
   ]
  },
  {
   "cell_type": "code",
   "execution_count": 24,
   "metadata": {},
   "outputs": [
    {
     "data": {
      "text/plain": [
       "[<matplotlib.lines.Line2D at 0x20890600548>]"
      ]
     },
     "execution_count": 24,
     "metadata": {},
     "output_type": "execute_result"
    },
    {
     "data": {
      "image/png": "[encoded data removed]",
      "text/plain": [
       "<Figure size 432x288 with 1 Axes>"
      ]
     },
     "metadata": {
      "needs_background": "light"
     },
     "output_type": "display_data"
    }
   ],
   "source": [
    "fig = plt.figure()\n",
    "ax = fig.add_subplot(1,1,1)\n",
    " \n",
    "ax.set(xlim=[0.,len(graph_i)], ylim=[0.,len(graph_i)])\n",
    "plt.plot(graph_i,graph_add)"
   ]
  },
  {
   "cell_type": "code",
   "execution_count": 25,
   "metadata": {},
   "outputs": [
    {
     "data": {
      "text/plain": [
       "[<matplotlib.lines.Line2D at 0x20890e236c8>]"
      ]
     },
     "execution_count": 25,
     "metadata": {},
     "output_type": "execute_result"
    },
    {
     "data": {
      "image/png": "[encoded data removed]",
      "text/plain": [
       "<Figure size 432x288 with 1 Axes>"
      ]
     },
     "metadata": {
      "needs_background": "light"
     },
     "output_type": "display_data"
    }
   ],
   "source": [
    "fig = plt.figure()\n",
    "ax = fig.add_subplot(1,1,1)\n",
    " \n",
    "ax.set(xlim=[0.,len(graph_i)], ylim=[0.,len(graph_i)])\n",
    "plt.plot(graph_i,graph_i_add)"
   ]
  },
  {
   "cell_type": "code",
   "execution_count": null,
   "metadata": {},
   "outputs": [],
   "source": []
  }
 ],
 "metadata": {
  "kernelspec": {
   "display_name": "Python 3",
   "language": "python",
   "name": "python3"
  },
  "language_info": {
   "codemirror_mode": {
    "name": "ipython",
    "version": 3
   },
   "file_extension": ".py",
   "mimetype": "text/x-python",
   "name": "python",
   "nbconvert_exporter": "python",
   "pygments_lexer": "ipython3",
   "version": "3.7.7"
  }
 },
 "nbformat": 4,
 "nbformat_minor": 4
}
