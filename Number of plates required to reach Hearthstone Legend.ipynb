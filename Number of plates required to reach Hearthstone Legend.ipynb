{
 "cells": [
  {
   "cell_type": "code",
   "execution_count": 4,
   "metadata": {
    "scrolled": true
   },
   "outputs": [
    {
     "data": {
      "text/plain": [
       "59.9868"
      ]
     },
     "execution_count": 4,
     "metadata": {},
     "output_type": "execute_result"
    }
   ],
   "source": [
    "import numpy as np\n",
    "import random\n",
    "z = []\n",
    "for s in range(10000):#1만번 반복\n",
    "    star = 0 #스타\n",
    "    rank = 5 #등급\n",
    "    win_rate = 6200 #승률62.00%\n",
    "    random_win = []\n",
    "    for a in range(win_rate):#승리\n",
    "        random_win.append(1)\n",
    "    for a in range(10000-win_rate):#패배\n",
    "        random_win.append(0)\n",
    "    i = 0 \n",
    "    while True: #전설 갈때까지 계속\n",
    "        i+=1\n",
    "        now_win = random.choice(random_win)#무작위로 승리또는 패배 결정\n",
    "        if now_win == 1 and rank == 1 and star == 3:#전설 달성으로 나감\n",
    "            z.append(i)\n",
    "            break;\n",
    "        if now_win == 0 and rank == 5 and star == 0:#다5 이하로는 떨어지지 않음\n",
    "            continue;\n",
    "        if now_win == 0 and star == 0:#지고 0별이면 한단계 떨어지고 별은 2가 된다\n",
    "            rank += 1\n",
    "            star = 2 \n",
    "            continue;\n",
    "        if now_win == 1 and star == 3:#지고 0별이면 한단계 올라가고 별은 2가 된다\n",
    "            rank -= 1\n",
    "            star = 1\n",
    "            continue;\n",
    "        if now_win == 1:#승리\n",
    "            star += 1\n",
    "            continue;\n",
    "        if now_win == 0:#패배\n",
    "            star -= 1\n",
    "            continue;\n",
    "print((np.sum(np.array(z))/10000))#10000번 돌려 나온 평균"
   ]
  },
  {
   "cell_type": "code",
   "execution_count": 2,
   "metadata": {},
   "outputs": [
    {
     "name": "stdout",
     "output_type": "stream",
     "text": [
      "5:급 0:스타\n",
      "5:급 0:스타\n",
      "5:급 0:스타\n",
      "5:급 1:스타\n",
      "5:급 2:스타\n",
      "5:급 3:스타\n",
      "5:급 2:스타\n",
      "5:급 3:스타\n",
      "4:급 1:스타\n",
      "4:급 2:스타\n",
      "4:급 1:스타\n",
      "4:급 2:스타\n",
      "4:급 3:스타\n",
      "3:급 1:스타\n",
      "3:급 2:스타\n",
      "3:급 3:스타\n",
      "2:급 1:스타\n",
      "2:급 2:스타\n",
      "2:급 3:스타\n",
      "1:급 1:스타\n",
      "1:급 2:스타\n",
      "1:급 1:스타\n",
      "1:급 0:스타\n",
      "1:급 1:스타\n",
      "1:급 0:스타\n",
      "2:급 2:스타\n",
      "2:급 1:스타\n",
      "2:급 2:스타\n",
      "2:급 1:스타\n",
      "2:급 2:스타\n",
      "2:급 1:스타\n",
      "2:급 2:스타\n",
      "2:급 1:스타\n",
      "2:급 2:스타\n",
      "2:급 3:스타\n",
      "1:급 1:스타\n",
      "1:급 0:스타\n",
      "2:급 2:스타\n",
      "2:급 1:스타\n",
      "2:급 2:스타\n",
      "2:급 1:스타\n",
      "2:급 0:스타\n",
      "2:급 1:스타\n",
      "2:급 0:스타\n",
      "3:급 2:스타\n",
      "3:급 1:스타\n",
      "3:급 2:스타\n",
      "3:급 3:스타\n",
      "2:급 1:스타\n",
      "2:급 2:스타\n",
      "2:급 1:스타\n",
      "2:급 2:스타\n",
      "2:급 3:스타\n",
      "2:급 2:스타\n",
      "2:급 3:스타\n",
      "1:급 1:스타\n",
      "1:급 0:스타\n",
      "1:급 1:스타\n",
      "1:급 2:스타\n",
      "1:급 3:스타\n"
     ]
    },
    {
     "data": {
      "text/plain": [
       "60.0"
      ]
     },
     "execution_count": 2,
     "metadata": {},
     "output_type": "execute_result"
    }
   ],
   "source": [
    "    import numpy as np\n",
    "    import random\n",
    "    z = []\n",
    "    star = 0\n",
    "    rank = 5\n",
    "    win_rate = 59\n",
    "    random_win = []\n",
    "    for a in range(win_rate):\n",
    "        random_win.append(1)\n",
    "    for a in range(100-win_rate):\n",
    "        random_win.append(0)\n",
    "    i = 0 \n",
    "    while True:\n",
    "        print(str(rank)+':급'+' '+str(star)+':스타')\n",
    "        i+=1\n",
    "        now_win = random.choice(random_win)\n",
    "        if now_win == 1 and rank == 1 and star == 3:\n",
    "            z.append(i)\n",
    "            break;\n",
    "        if now_win == 0 and rank == 5 and star == 0:\n",
    "            continue;\n",
    "        if now_win == 0 and star == 0:\n",
    "            rank += 1\n",
    "            star = 2 \n",
    "            continue;\n",
    "        if now_win == 1 and star == 3:\n",
    "            rank -= 1\n",
    "            star = 1\n",
    "            continue;\n",
    "        if now_win == 1:\n",
    "            star += 1\n",
    "            continue;\n",
    "        if now_win == 0:\n",
    "            star -= 1\n",
    "            continue;\n",
    "(np.sum(np.array(z))/1)"
   ]
  },
  {
   "cell_type": "code",
   "execution_count": null,
   "metadata": {},
   "outputs": [],
   "source": []
  },
  {
   "cell_type": "code",
   "execution_count": null,
   "metadata": {},
   "outputs": [],
   "source": []
  }
 ],
 "metadata": {
  "kernelspec": {
   "display_name": "Python 3",
   "language": "python",
   "name": "python3"
  },
  "language_info": {
   "codemirror_mode": {
    "name": "ipython",
    "version": 3
   },
   "file_extension": ".py",
   "mimetype": "text/x-python",
   "name": "python",
   "nbconvert_exporter": "python",
   "pygments_lexer": "ipython3",
   "version": "3.7.6"
  }
 },
 "nbformat": 4,
 "nbformat_minor": 2
}
